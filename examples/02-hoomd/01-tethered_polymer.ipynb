{
 "cells": [
  {
   "cell_type": "markdown",
   "metadata": {},
   "source": [
    "# Langevin dynamics of a polymer attached to a plane"
   ]
  },
  {
   "cell_type": "code",
   "execution_count": null,
   "metadata": {
    "tags": []
   },
   "outputs": [],
   "source": [
    "%load_ext autoreload\n",
    "%autoreload 2\n",
    "# %matplotlib inline"
   ]
  },
  {
   "cell_type": "code",
   "execution_count": null,
   "metadata": {},
   "outputs": [],
   "source": [
    "import hoomd\n",
    "import gsd.hoomd\n",
    "import numpy as np\n",
    "import matplotlib.pyplot as plt"
   ]
  },
  {
   "cell_type": "markdown",
   "metadata": {},
   "source": [
    "## Functions"
   ]
  },
  {
   "cell_type": "code",
   "execution_count": null,
   "metadata": {
    "jupyter": {
     "source_hidden": true
    },
    "nbsphinx": "hidden",
    "tags": []
   },
   "outputs": [],
   "source": [
    "# This is not intended as a full tutorial on fresnel - see the fresnel user\n",
    "# documentation (https://fresnel.readthedocs.io/) if you would like to learn more.\n",
    "\n",
    "import io\n",
    "import warnings\n",
    "\n",
    "import fresnel\n",
    "import IPython\n",
    "import packaging.version\n",
    "import PIL\n",
    "\n",
    "device = fresnel.Device()\n",
    "tracer = fresnel.tracer.Path(device=device, w=300, h=300)\n",
    "\n",
    "FRESNEL_MIN_VERSION = packaging.version.parse('0.13.0')\n",
    "FRESNEL_MAX_VERSION = packaging.version.parse('0.14.0')\n",
    "\n",
    "\n",
    "def render(snapshot, formovie=False):\n",
    "    import math\n",
    "    if (\n",
    "        'version' not in dir(fresnel)\n",
    "        or packaging.version.parse(fresnel.version.version) < FRESNEL_MIN_VERSION\n",
    "        or packaging.version.parse(fresnel.version.version) >= FRESNEL_MAX_VERSION\n",
    "    ):\n",
    "        warnings.warn(\n",
    "            f'Unsupported fresnel version {fresnel.version.version} - expect errors.'\n",
    "        )\n",
    "    L = snapshot.configuration.box[0]\n",
    "    scene = fresnel.Scene(device)\n",
    "    geometry = fresnel.geometry.Sphere(\n",
    "        scene, N=len(snapshot.particles.position), radius=0.5\n",
    "    )\n",
    "    geometry.material = fresnel.material.Material(\n",
    "        color=fresnel.color.linear([252 / 255, 209 / 255, 1 / 255]), roughness=0.5\n",
    "    )\n",
    "    geometry.material.primitive_color_mix = 1\n",
    "    geometry.position[:] = snapshot.particles.position[:]\n",
    "    geometry.outline_width = 0.08\n",
    "    typeid = snapshot.particles.typeid\n",
    "    geometry.color[typeid == 1, :] = fresnel.color.linear(\n",
    "        [90 / 255, 226 / 255, 75 / 255]\n",
    "    )\n",
    "    geometry.color[typeid == 0, :] = fresnel.color.linear(\n",
    "        [252 / 255, 209 / 255, 1 / 255]\n",
    "    )\n",
    "    fresnel.geometry.Box(scene, [L, L, L, 0, 0, 0], box_radius=0.02)\n",
    "\n",
    "    scene.lights = [\n",
    "        fresnel.light.Light(direction=(0, 0, 1), color=(0.8, 0.8, 0.8), theta=math.pi),\n",
    "        fresnel.light.Light(\n",
    "            direction=(1, 1, 1), color=(1.1, 1.1, 1.1), theta=math.pi / 3\n",
    "        ),\n",
    "    ]\n",
    "    scene.camera = fresnel.camera.Orthographic(\n",
    "        position=(L * 2, L, L * 2), look_at=(0, 0, 0), up=(0, 1, 0), height=L * 1.4 + 1\n",
    "    )\n",
    "    scene.background_alpha = 1\n",
    "    scene.background_color = (1, 1, 1)\n",
    "    if formovie:\n",
    "        return tracer.sample(scene, samples=500)\n",
    "    else:\n",
    "        return IPython.display.Image(tracer.sample(scene, samples=500)._repr_png_())\n",
    "\n",
    "def render_movie(frames):\n",
    "    a = render(frames[0], formovie=True)\n",
    "\n",
    "    im0 = PIL.Image.fromarray(a[:, :, 0:3], mode='RGB').convert(\n",
    "        'P', palette=PIL.Image.Palette.ADAPTIVE\n",
    "    )\n",
    "    ims = []\n",
    "    for i, f in enumerate(frames[1:]):\n",
    "        a = render(f, formovie=True)\n",
    "        im = PIL.Image.fromarray(a[:, :, 0:3], mode='RGB')\n",
    "        im_p = im.quantize(palette=im0)\n",
    "        ims.append(im_p)\n",
    "\n",
    "    blank = np.ones(shape=(im.height, im.width, 3), dtype=np.uint8) * 255\n",
    "    im = PIL.Image.fromarray(blank, mode='RGB')\n",
    "    im_p = im.quantize(palette=im0)\n",
    "    ims.append(im_p)\n",
    "\n",
    "    f = io.BytesIO()\n",
    "    im0.save(f, 'gif', save_all=True, append_images=ims, duration=100, loop=0)\n",
    "\n",
    "    size = len(f.getbuffer()) / 1024\n",
    "    if size > 3000:\n",
    "        warnings.warn(f'Large GIF: {size} KiB')\n",
    "    return IPython.display.display(IPython.display.Image(data=f.getvalue()))"
   ]
  },
  {
   "cell_type": "markdown",
   "metadata": {},
   "source": [
    "## Construct the simulation\n",
    "\n",
    "We simulate the dynamics of a polymer chain tethered to a wall. The chain is made of $N$ monomers. Let us $r_i$ be the coordinates of the $i$th monomer, an $u_i = r_{i} - r_{i-1}$ the $i$th bond vector. We will consider a chain with the following potential energy:\n",
    "1. FENE bonds\n",
    "\\begin{aligned}\n",
    "U_\\text{FENE} = -\\frac{3 k_\\text{e} r_0^2}{2 b^2} \\sum \\limits_{i=1}^{N}\\log{\\left(1 -  \\frac{u_i^2}{r_0^2}\\right)}.\n",
    "\\end{aligned}\n",
    "\n",
    "2. Kratky-Porod angle interactions\n",
    "\\begin{aligned}\n",
    "U_\\text{KP} = l_\\text{p} \\sum \\limits_{i=1}^{N-1} (1 - \\cos{\\left( [u_i ; u_{i+1}] \\right)}.\n",
    "\\end{aligned}\n",
    "\n",
    "3. Truncated Lennard-Jones potential\n",
    "\\begin{aligned}\n",
    "U_\\text{LJ} = 4 \\epsilon \\left( \\left( \\frac{\\sigma}{r} \\right)^{12} - \\left( \\frac{\\sigma}{r} \\right)^{6}\\right), \\quad \\text{if} \\quad r < r_\\text{cut}\n",
    "\\end{aligned}"
   ]
  },
  {
   "cell_type": "markdown",
   "metadata": {},
   "source": [
    "Parameters"
   ]
  },
  {
   "cell_type": "code",
   "execution_count": null,
   "metadata": {},
   "outputs": [],
   "source": [
    "# model\n",
    "N_monomer = 2**5   # number of monomers\n",
    "lp = 3.            # bending rigidity\n",
    "\n",
    "# simulation\n",
    "seed = 123\n",
    "itermax = int(1e4)\n",
    "idump = int(1e2)\n",
    "dt = 0.005"
   ]
  },
  {
   "cell_type": "markdown",
   "metadata": {},
   "source": [
    "We start by defining the dimensions of the simulation box. By default, there are periodic boundary conditions, so coordinates are warped around when a particle crosses one of the box boundaries. Here we want the box to be long enough so that a chain tethered at the center will not cross one of the box boundaries."
   ]
  },
  {
   "cell_type": "code",
   "execution_count": null,
   "metadata": {},
   "outputs": [],
   "source": [
    "Lx = 2*N_monomer\n",
    "Ly = Lx\n",
    "Lz = Lx"
   ]
  },
  {
   "cell_type": "markdown",
   "metadata": {},
   "source": [
    "We generate an initial configuration for the coordinates of the polymer. The easiest is a straight chain, i.e. $u_i = (0,0,1)$."
   ]
  },
  {
   "cell_type": "code",
   "execution_count": null,
   "metadata": {},
   "outputs": [],
   "source": [
    "# polymer(s)\n",
    "position_polymer = position = np.concatenate([np.zeros((N_monomer,2)), (np.arange(N_monomer)+1).reshape(-1,1)],axis=1)"
   ]
  },
  {
   "cell_type": "markdown",
   "metadata": {},
   "source": [
    "We will also model an impenetrable membrane. Here we take the approach of representing the membrane as a sheet of closely packed spheres. This approach can be used to represent more complex shapes.\n",
    "\n",
    "We generate a grid of coordinates in the $xy$ plane at $z=0$."
   ]
  },
  {
   "cell_type": "code",
   "execution_count": null,
   "metadata": {},
   "outputs": [],
   "source": [
    "# barrier (e.g. plane)\n",
    "xvalues = np.linspace(-Lx/2, Lx/2, max(1,int(np.ceil(Lx/1.))), endpoint=False)\n",
    "yvalues = np.linspace(-Ly/2, Ly/2, max(1,int(np.ceil(Ly/1.))), endpoint=False)\n",
    "\n",
    "X = np.einsum('i,j->ij', xvalues, np.ones(xvalues.shape)).ravel().reshape(-1,1)\n",
    "Y = np.einsum('j,i->ij', yvalues, np.ones(xvalues.shape)).ravel().reshape(-1,1)\n",
    "Z = np.zeros(X.shape)\n",
    "\n",
    "position_wall = np.concatenate([X,Y,Z], axis=1)"
   ]
  },
  {
   "cell_type": "markdown",
   "metadata": {},
   "source": [
    "In HOOMD, a simulation starts from a state. A state can be defined through the `Frame` object.\n",
    "\n",
    "We start by:\n",
    "* specifying the number of particles\n",
    "* declaring particle types that are convenient or relevant\n",
    "* setting the dimensions of the box\n",
    "\n",
    "In our case, we will differentiate the polymer particles from the barrier/membrane particle."
   ]
  },
  {
   "cell_type": "code",
   "execution_count": null,
   "metadata": {},
   "outputs": [],
   "source": [
    "frame = gsd.hoomd.Frame()\n",
    "frame.particles.N = len(position_polymer) + len(position_wall)\n",
    "frame.particles.types = ['mobile','barrier']\n",
    "frame.configuration.box = [Lx, Ly, Lz, 0, 0, 0]"
   ]
  },
  {
   "cell_type": "markdown",
   "metadata": {},
   "source": [
    "We now set:\n",
    "* the positions of the particles, using the initial values computed above\n",
    "* set their type ID"
   ]
  },
  {
   "cell_type": "code",
   "execution_count": null,
   "metadata": {},
   "outputs": [],
   "source": [
    "frame.particles.position = np.concatenate([position_polymer, position_wall])\n",
    "frame.particles.typeid = np.concatenate([[1] + [0]*(len(position_polymer)-1) + [1]*len(position_wall)])"
   ]
  },
  {
   "cell_type": "markdown",
   "metadata": {},
   "source": [
    "Now we need to specify the type of bonded interactions. To do so, we:\n",
    "* specify the number of bonds\n",
    "* declare relevant bond types that we will be using: in our case just one\n",
    "\n",
    "Then for each of the $N-1$, bonds we indicate:\n",
    "* the index of the type of bond to implement there, in our case it is always 0.\n",
    "* the pair of monomers, $(i-1,i)$, which are bonded"
   ]
  },
  {
   "cell_type": "code",
   "execution_count": null,
   "metadata": {},
   "outputs": [],
   "source": [
    "# set up the bonded interactions\n",
    "frame.bonds.N = N_monomer - 1\n",
    "frame.bonds.types = ['A-A']\n",
    "frame.bonds.typeid = [0] * (N_monomer - 1)\n",
    "frame.bonds.group = np.array([np.arange(0,N_monomer-1), np.arange(1,N_monomer)]).T\n",
    "\n",
    "# we use a FENE potential\n",
    "fene = hoomd.md.bond.FENEWCA()\n",
    "fene.params['A-A'] = dict(k=20., r0=1.5, epsilon=1., sigma=1., delta=0.)"
   ]
  },
  {
   "cell_type": "markdown",
   "metadata": {},
   "source": [
    "The Kratky-Porod potential defined earlier to model bending rigidity amounts to specify so-called angle interactions. Each angle interaction involves 3 monomers. The implementation is similar to the implementation of bonded interactions, except that we are now specifying triplets $(i-1,i,i+1)$ of monomers for each angle.\n",
    "\n",
    "The Kratky-Porod potential is not implemented in HOOMD. However, we can use the `Table` method to implement our custom potential. We supply a tabular estimate of our potential for a finite number of values for the angle."
   ]
  },
  {
   "cell_type": "code",
   "execution_count": null,
   "metadata": {},
   "outputs": [],
   "source": [
    "# set the angle interactions\n",
    "frame.angles.N = N_monomer - 2\n",
    "frame.angles.types = ['A-A-A']\n",
    "frame.angles.typeid = [0] * (N_monomer - 2)\n",
    "frame.angles.group = np.array([np.arange(0,N_monomer-2), np.arange(1,N_monomer-1), np.arange(2,N_monomer)]).T\n",
    "\n",
    "# set the angle interactions as a Kratky-Porod potential\n",
    "width = 2**7  # Number of points in the table\n",
    "theta_values = np.linspace(0, np.pi, width)\n",
    "\n",
    "## Calculate the potential V(theta) using the Kratky-Porod model\n",
    "V_theta = 0.5 * lp * (1 - np.cos(theta_values-np.pi))\n",
    "\n",
    "## Calculate the torque tau(theta) as the derivative of the potential\n",
    "tau_theta = -0.5 * lp * np.sin(theta_values-np.pi)\n",
    "kratky = hoomd.md.angle.Table(width=width)\n",
    "kratky.params['A-A-A'] = dict(U=V_theta, tau=tau_theta)"
   ]
  },
  {
   "cell_type": "markdown",
   "metadata": {},
   "source": [
    "The last type of interactions considered are pair interactions. For each pair of monomer, the interaction potential $U(r_i - r_j)$ is used to compute the force exerted by monomer $j$ on $i$ (and vice-versa). Here we use truncated Lennard-Jones potentials. We need to specify an energy scale, $\\epsilon$, and a range for the interaction, $r_\\text{cut}$. When $r_\\text{cut} = 2^{1/6} \\sigma$, the interaction is purely repulsive, which is what we consider here. For larger $r_\\text{cut}$, there is also an attractive region in the potential."
   ]
  },
  {
   "cell_type": "code",
   "execution_count": null,
   "metadata": {},
   "outputs": [],
   "source": [
    "# excluded volume interactions\n",
    "lj = hoomd.md.pair.LJ(nlist=hoomd.md.nlist.Cell(buffer=0.4, exclusions=('bond','angle')))\n",
    "lj.params[('mobile', 'mobile')] = dict(epsilon=1.0, sigma=1.0)\n",
    "lj.r_cut[('mobile', 'mobile')] = 2**(1 / 6)\n",
    "\n",
    "lj.params[('mobile', 'barrier')] = dict(epsilon=1.0, sigma=1.0)\n",
    "lj.r_cut[('mobile', 'barrier')] = 2 ** (1 / 6)\n",
    "\n",
    "# the particle in the membrane will remain immobile so we do not need\n",
    "# to implement excluded volume interactions among them\n",
    "lj.params[('barrier', 'barrier')] = dict(epsilon=0.0, sigma=0.0)\n",
    "lj.r_cut[('barrier', 'barrier')] = 0"
   ]
  },
  {
   "cell_type": "markdown",
   "metadata": {},
   "source": [
    "Let us look at what we constructed"
   ]
  },
  {
   "cell_type": "code",
   "execution_count": null,
   "metadata": {},
   "outputs": [],
   "source": [
    "render(frame)"
   ]
  },
  {
   "cell_type": "markdown",
   "metadata": {},
   "source": [
    "## Run the simulation\n",
    "\n",
    "We have successfully prepared an initial state. Now all there is to do is to integrate the equations of motion."
   ]
  },
  {
   "cell_type": "code",
   "execution_count": null,
   "metadata": {},
   "outputs": [],
   "source": [
    "cpu = hoomd.device.CPU()    # run on the CPU\n",
    "simulation = hoomd.Simulation(device=cpu, seed=seed) # create the simulation object"
   ]
  },
  {
   "cell_type": "markdown",
   "metadata": {},
   "source": [
    "We need to set the simulation state to what we have created previously"
   ]
  },
  {
   "cell_type": "code",
   "execution_count": null,
   "metadata": {},
   "outputs": [],
   "source": [
    "simulation.create_state_from_snapshot(frame)"
   ]
  },
  {
   "cell_type": "markdown",
   "metadata": {},
   "source": [
    "Now we specify the type of dynamics, or \"integrator\", that we will use. We will use the Langevin dynamics integrator. As mentioned hereabove, the particles which make the barrier are fixed, so we only integrate the equation of motion for the mobile particles.\n",
    "\n",
    "We also need to add to the integrator the different force fields that we have created."
   ]
  },
  {
   "cell_type": "code",
   "execution_count": null,
   "metadata": {},
   "outputs": [],
   "source": [
    "langevin = hoomd.md.methods.Langevin(filter=hoomd.filter.Type(types=['mobile']), kT=1.0)\n",
    "integrator = hoomd.md.Integrator(dt=dt, methods=[langevin], \\\n",
    "                                forces = [fene, kratky, lj])\n",
    "\n",
    "simulation.operations.integrator = integrator"
   ]
  },
  {
   "cell_type": "markdown",
   "metadata": {},
   "source": [
    "We will write the trajectory as a GSD file. We specified a Periodic trigger to write the state to the trajectory file every multiple of a given number of iterations."
   ]
  },
  {
   "cell_type": "code",
   "execution_count": null,
   "metadata": {},
   "outputs": [],
   "source": [
    "gsd_writer = hoomd.write.GSD(filename='trajectory.gsd', trigger=hoomd.trigger.Periodic(idump), dynamic=['property', 'momentum'], mode='wb')\n",
    "simulation.operations.writers.append(gsd_writer)"
   ]
  },
  {
   "cell_type": "markdown",
   "metadata": {},
   "source": [
    "Finally, we are ready to run our simulation."
   ]
  },
  {
   "cell_type": "code",
   "execution_count": null,
   "metadata": {},
   "outputs": [],
   "source": [
    "simulation.run(itermax)"
   ]
  },
  {
   "cell_type": "markdown",
   "metadata": {},
   "source": [
    "Let us check out the state we reached"
   ]
  },
  {
   "cell_type": "code",
   "execution_count": null,
   "metadata": {},
   "outputs": [],
   "source": [
    "render(simulation.state.get_snapshot())"
   ]
  },
  {
   "cell_type": "markdown",
   "metadata": {},
   "source": [
    "## Analysis"
   ]
  },
  {
   "cell_type": "markdown",
   "metadata": {},
   "source": [
    "Read the trajectory:"
   ]
  },
  {
   "cell_type": "code",
   "execution_count": null,
   "metadata": {
    "tags": []
   },
   "outputs": [],
   "source": [
    "gsd_writer.flush()  # this is necessary sometimes\n",
    "traj = gsd.hoomd.open('trajectory.gsd')"
   ]
  },
  {
   "cell_type": "markdown",
   "metadata": {},
   "source": [
    "Let us read the time"
   ]
  },
  {
   "cell_type": "code",
   "execution_count": null,
   "metadata": {},
   "outputs": [],
   "source": [
    "steps = np.array([traj[i].configuration.step for i in range(len(traj))])\n",
    "times = steps * dt"
   ]
  },
  {
   "cell_type": "markdown",
   "metadata": {},
   "source": [
    "Let us read the positions and velocities"
   ]
  },
  {
   "cell_type": "code",
   "execution_count": null,
   "metadata": {},
   "outputs": [],
   "source": [
    "# we retain the index of the mobile particles only, i.e. index 0\n",
    "mobile = traj[0].particles.typeid == 0"
   ]
  },
  {
   "cell_type": "code",
   "execution_count": null,
   "metadata": {},
   "outputs": [],
   "source": [
    "positions = np.array([traj[i].particles.position[mobile] for i in range(len(traj))])\n",
    "velocities = np.array([traj[i].particles.velocity[mobile] for i in range(len(traj))])"
   ]
  },
  {
   "cell_type": "markdown",
   "metadata": {},
   "source": [
    "First of all, let us compute the radius of gyration of the polymer chain:\n",
    "\\begin{aligned}\n",
    "R_g^2 = \\frac{1}{N} \\sum \\limits_{i=1}^{N} \\left( r_i - r_\\text{mean} \\right)^2\n",
    "\\end{aligned}"
   ]
  },
  {
   "cell_type": "code",
   "execution_count": null,
   "metadata": {},
   "outputs": [],
   "source": [
    "positions_mean = np.mean(positions, axis=1).reshape(-1,1,3)\n",
    "rg2 = np.mean(np.sum((positions-positions_mean)**2, axis=2), axis=1)"
   ]
  },
  {
   "cell_type": "code",
   "execution_count": null,
   "metadata": {},
   "outputs": [],
   "source": [
    "plt.plot(times, rg2)\n",
    "plt.xlabel('simulation time')\n",
    "plt.ylabel('Rg2')\n",
    "plt.show()"
   ]
  },
  {
   "cell_type": "markdown",
   "metadata": {},
   "source": [
    "Thus we see that the radius of gyration progressively relax towards its equilibrium value"
   ]
  },
  {
   "cell_type": "markdown",
   "metadata": {},
   "source": [
    "Let us now compute the mean thermal energy among the monomers:\n",
    "\\begin{aligned}\n",
    "\\langle v^2 \\rangle = \\frac{1}{N} \\sum \\limits_{i=1}^N (v_i^2 - v_\\text{mean})\n",
    "\\end{aligned}"
   ]
  },
  {
   "cell_type": "code",
   "execution_count": null,
   "metadata": {},
   "outputs": [],
   "source": [
    "v_mean = np.mean(velocities, axis=1).reshape(-1,1,3)\n",
    "v_thermal = np.mean(np.sum((velocities-v_mean)**2, axis=2), axis=1)"
   ]
  },
  {
   "cell_type": "code",
   "execution_count": null,
   "metadata": {},
   "outputs": [],
   "source": [
    "plt.plot(times, v_thermal)\n",
    "plt.xlabel('simulation time')\n",
    "plt.ylabel('thermal energy')\n",
    "plt.show()"
   ]
  },
  {
   "cell_type": "markdown",
   "metadata": {},
   "source": [
    "We see that after a transient regime due to the initial condition, the thermal energy per monomer oscillates around its expected mean value of $\\langle \\delta v^2 \\rangle = 3 k_\\text{B} T$."
   ]
  },
  {
   "cell_type": "markdown",
   "metadata": {},
   "source": [
    "## Make movie\n",
    "\n",
    "<div class=\"alert alert-warning\">\n",
    "This may take time to complete depending on the number of time points in the trajectory. Use `traj[k0:k1:dk]` to adjust the start, end and number of time points in the trajectory.\n",
    "</div>"
   ]
  },
  {
   "cell_type": "code",
   "execution_count": null,
   "metadata": {
    "tags": []
   },
   "outputs": [],
   "source": [
    "gsd_writer.flush()  # this is necessary sometimes\n",
    "traj = gsd.hoomd.open('trajectory.gsd')"
   ]
  },
  {
   "cell_type": "code",
   "execution_count": null,
   "metadata": {},
   "outputs": [],
   "source": [
    "render_movie(traj)"
   ]
  }
 ],
 "metadata": {
  "kernelspec": {
   "display_name": "hoomd",
   "language": "python",
   "name": "hoomd"
  },
  "language_info": {
   "codemirror_mode": {
    "name": "ipython",
    "version": 3
   },
   "file_extension": ".py",
   "mimetype": "text/x-python",
   "name": "python",
   "nbconvert_exporter": "python",
   "pygments_lexer": "ipython3",
   "version": "3.12.1"
  }
 },
 "nbformat": 4,
 "nbformat_minor": 5
}
